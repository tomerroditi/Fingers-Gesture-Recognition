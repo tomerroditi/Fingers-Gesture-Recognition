{
 "nbformat": 4,
 "nbformat_minor": 0,
 "metadata": {
  "colab": {
   "provenance": [
    {
     "file_id": "18Ls5k7xAxmNgaBM6zyHTf2WmKyhOt7st",
     "timestamp": 1681342143006
    }
   ],
   "mount_file_id": "18Ls5k7xAxmNgaBM6zyHTf2WmKyhOt7st",
   "authorship_tag": "ABX9TyN4jvH7SaoboUnH0QnDnafB"
  },
  "kernelspec": {
   "name": "python3",
   "language": "python",
   "display_name": "Python 3 (ipykernel)"
  },
  "language_info": {
   "name": "python"
  },
  "accelerator": "GPU",
  "gpuClass": "standard"
 },
 "cells": [
  {
   "cell_type": "markdown",
   "source": [
    "# Import Dependencies"
   ],
   "metadata": {
    "collapsed": false
   }
  },
  {
   "cell_type": "code",
   "execution_count": null,
   "metadata": {
    "id": "OLGJ_iEBBdM2"
   },
   "outputs": [],
   "source": [
    "import sys\n",
    "sys.path.append(r'C:\\Users\\YH006_new\\Desktop\\Fingers-Gesture-Recognition')\n",
    "\n",
    "import numpy as np\n",
    "import torch\n",
    "import Source.fgr.models as models\n",
    "from Source.fgr.utils import train_test_split_by_gesture\n",
    "\n",
    "from Source.fgr.pipelines import Data_Pipeline\n",
    "from Source.fgr.data_manager import Data_Manager\n",
    "from warnings import simplefilter\n",
    "from pathlib import Path\n",
    "from importlib import reload\n",
    "\n",
    "# ignore some warnings\n",
    "simplefilter(action='ignore', category=FutureWarning)\n",
    "simplefilter(action='ignore', category=UserWarning)"
   ]
  },
  {
   "cell_type": "markdown",
   "source": [
    "# Construct a Data Manager"
   ],
   "metadata": {
    "collapsed": false
   }
  },
  {
   "cell_type": "code",
   "source": [
    "# pipeline definition and data manager creation\n",
    "data_path = Path(r'I:/My Drive/finger gesture recognition/')\n",
    "pipeline = Data_Pipeline(base_data_files_path=data_path)  # configure the data pipeline you would like to use (check pipelines module for more info)\n",
    "subject = 18\n",
    "dm = Data_Manager([subject], pipeline)\n",
    "print(dm.data_info())"
   ],
   "metadata": {
    "id": "Y0RHpwXTa1Rx"
   },
   "execution_count": null,
   "outputs": []
  },
  {
   "cell_type": "markdown",
   "source": [
    "# task 1 - single subject, 80/20 train/test split from position 4 all sessions\n"
   ],
   "metadata": {
    "collapsed": false
   }
  },
  {
   "cell_type": "markdown",
   "source": [
    "## data extraction"
   ],
   "metadata": {
    "collapsed": false
   }
  },
  {
   "cell_type": "code",
   "execution_count": null,
   "outputs": [],
   "source": [
    "# extract datasets from the data manager - labels format: \"<subject>_<session>_<position>_<gesture>_<iteration_number>\"\n",
    "dataset = dm.get_dataset(experiments=[f'{subject:03d}_*_4'], add_exp_name=True)\n",
    "\n",
    "data = dataset[0]\n",
    "labels = dataset[1]\n",
    "\n",
    "# train test split\n",
    "data_train, data_test, labels_train, labels_test = train_test_split_by_gesture(data, labels=labels, test_size=0.2)\n",
    "\n",
    "# reshape the data to match the model architecture\n",
    "data_train = data_train.reshape(data_train.shape[0], 1, 4, 4)  # reshape to fit the CNN input\n",
    "data_test = data_test.reshape(data_test.shape[0], 1, 4, 4)  # reshape to fit the CNN input"
   ],
   "metadata": {
    "collapsed": false
   }
  },
  {
   "cell_type": "markdown",
   "source": [
    "## model training"
   ],
   "metadata": {
    "collapsed": false
   }
  },
  {
   "cell_type": "code",
   "execution_count": null,
   "outputs": [],
   "source": [
    "# set and train a model (cv or not)\n",
    "model = models.Net(num_classes=10, dropout_rate=0.3)\n",
    "model.fit_model(data_train, labels_train, val_data=data_test, val_labels=labels_test, num_epochs=120, batch_size=64,\n",
    "                lr=0.001, l2_weight=0.0001)"
   ],
   "metadata": {
    "collapsed": false
   }
  },
  {
   "cell_type": "markdown",
   "source": [
    "## model evaluation"
   ],
   "metadata": {
    "collapsed": false
   }
  },
  {
   "cell_type": "code",
   "execution_count": null,
   "outputs": [],
   "source": [
    "model.evaluate_model(model.val_data, model.val_labels, cm_title=f'subject {subject} - task 1')"
   ],
   "metadata": {
    "collapsed": false
   }
  },
  {
   "cell_type": "markdown",
   "source": [
    "# task 2 - single subject, 80/20 train/test split from all sessions"
   ],
   "metadata": {
    "collapsed": false
   }
  },
  {
   "cell_type": "markdown",
   "source": [
    "## data extraction"
   ],
   "metadata": {
    "collapsed": false
   }
  },
  {
   "cell_type": "code",
   "execution_count": null,
   "outputs": [],
   "source": [
    "# extract datasets from the data manager - labels format: \"<subject>_<session>_<position>_<gesture>_<iteration_number>\"\n",
    "dataset = dm.get_dataset(experiments=[f'{subject:03d}_*_*'], add_exp_name=True)\n",
    "\n",
    "data = dataset[0]\n",
    "labels = dataset[1]\n",
    "\n",
    "# train test split\n",
    "data_train, data_test, labels_train, labels_test = train_test_split_by_gesture(data, labels=labels, test_size=0.2)\n",
    "\n",
    "# reshape the data to match the model architecture\n",
    "data_train = data_train.reshape(data_train.shape[0], 1, 4, 4)  # reshape to fit the CNN input\n",
    "data_test = data_test.reshape(data_test.shape[0], 1, 4, 4)  # reshape to fit the CNN input"
   ],
   "metadata": {
    "collapsed": false
   }
  },
  {
   "cell_type": "markdown",
   "source": [
    "## model training"
   ],
   "metadata": {
    "collapsed": false
   }
  },
  {
   "cell_type": "code",
   "execution_count": null,
   "outputs": [],
   "source": [
    "# set and train a model (cv or not)\n",
    "model = models.Net(num_classes=10, dropout_rate=0.3)\n",
    "model.fit_model(data_train, labels_train, val_data=data_test, val_labels=labels_test, num_epochs=120, batch_size=64,\n",
    "                lr=0.001, l2_weight=0.0001)"
   ],
   "metadata": {
    "collapsed": false
   }
  },
  {
   "cell_type": "markdown",
   "source": [
    "## model evaluation"
   ],
   "metadata": {
    "collapsed": false
   }
  },
  {
   "cell_type": "code",
   "execution_count": null,
   "outputs": [],
   "source": [
    "model.evaluate_model(model.val_data, model.val_labels, cm_title=f'subject {subject} - task 1')"
   ],
   "metadata": {
    "collapsed": false
   }
  },
  {
   "cell_type": "markdown",
   "source": [
    "# task 3 - using 70% of session 2 as testing data (the rest is used for training)"
   ],
   "metadata": {
    "collapsed": false
   }
  },
  {
   "cell_type": "markdown",
   "source": [
    "## data extraction"
   ],
   "metadata": {
    "collapsed": false
   }
  },
  {
   "cell_type": "code",
   "source": [
    "# extract datasets from the data manager - labels format: \"<subject>_<session>_<position>_<gesture>_<iteration_number>\"\n",
    "dataset_1 = dm.get_dataset(experiments=[f'{subject:03d}_1_*'], add_exp_name=True)\n",
    "dataset_2 = dm.get_dataset(experiments=[f'{subject:03d}_2_*'], add_exp_name=True)\n",
    "\n",
    "data_1 = dataset_2[0]\n",
    "labels_1 = dataset_2[1]\n",
    "\n",
    "data_2 = dataset_1[0]\n",
    "labels_2 = dataset_1[1]\n",
    "\n",
    "# train test split\n",
    "data_2_train, data_2_test, labels_2_train, labels_2_test = train_test_split_by_gesture(data_2, labels=labels_2, test_size=0.7)\n",
    "\n",
    "# reshape the data to match the model architecture input\n",
    "data_1 = data_1.reshape(data_1.shape[0], 1, 4, 4)\n",
    "data_2_train = data_2_train.reshape(data_2_train.shape[0], 1, 4, 4)\n",
    "data_2_test = data_2_test.reshape(data_2_test.shape[0], 1, 4, 4)"
   ],
   "metadata": {
    "id": "5ppuvKe5HRoU"
   },
   "execution_count": null,
   "outputs": []
  },
  {
   "cell_type": "markdown",
   "source": [
    "## model training"
   ],
   "metadata": {
    "collapsed": false
   }
  },
  {
   "cell_type": "code",
   "source": [
    "# set and train a model (cv or not)\n",
    "model = models.Net(num_classes=10, dropout_rate=0.3)\n",
    "# model = torch.compile(model)  # optimize for faster training\n",
    "model.fit_model(data_1, labels_1, num_epochs=120, batch_size=64, lr=0.001, l2_weight=0.0001)\n",
    "model.fit_model(data_2_train, labels_2_train, val_data=data_2_test, val_labels=labels_2_test, num_epochs=70,\n",
    "                batch_size=64, lr=0.001, l2_weight=0.0001)"
   ],
   "metadata": {
    "id": "8FpeK_VYIKdq"
   },
   "execution_count": null,
   "outputs": []
  },
  {
   "cell_type": "markdown",
   "source": [
    "## model evaluation"
   ],
   "metadata": {
    "collapsed": false
   }
  },
  {
   "cell_type": "code",
   "source": [
    "model.evaluate_model(data_2_test, labels_2_test, cm_title=f'subject {subject} - task 2')"
   ],
   "metadata": {
    "id": "wgX42kM5j31S"
   },
   "execution_count": null,
   "outputs": []
  },
  {
   "cell_type": "code",
   "execution_count": null,
   "outputs": [],
   "source": [],
   "metadata": {
    "collapsed": false
   }
  }
 ]
}
