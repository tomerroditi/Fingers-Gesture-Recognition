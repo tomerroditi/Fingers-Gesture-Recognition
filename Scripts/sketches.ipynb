{
 "cells": [
  {
   "cell_type": "markdown",
   "source": [
    "## creating a recording object to work with"
   ],
   "metadata": {
    "collapsed": false
   }
  },
  {
   "cell_type": "code",
   "execution_count": 4,
   "outputs": [],
   "source": [
    "from pathlib import Path\n",
    "from Source.recording import Recording\n",
    "from Source.pipelines import Data_Pipeline"
   ],
   "metadata": {
    "collapsed": false
   }
  },
  {
   "cell_type": "code",
   "execution_count": 6,
   "metadata": {
    "collapsed": true
   },
   "outputs": [],
   "source": [
    "paths = [Path(r'G:\\.shortcut-targets-by-id\\1KV37VQD97wDVcG9cls4l_H4HSiE3GPkI\\data_files\\subject_001\\session_1\\GR_pos1_001_S1_Recording_00_SD_edited.edf')]\n",
    "\n",
    "pipeline = Data_Pipeline()  # default values pipeline\n",
    "rec = Recording(paths, pipeline)\n",
    "rec.load_data()"
   ]
  },
  {
   "cell_type": "code",
   "execution_count": null,
   "outputs": [],
   "source": [],
   "metadata": {
    "collapsed": false
   }
  }
 ],
 "metadata": {
  "kernelspec": {
   "display_name": "Python 3",
   "language": "python",
   "name": "python3"
  },
  "language_info": {
   "codemirror_mode": {
    "name": "ipython",
    "version": 2
   },
   "file_extension": ".py",
   "mimetype": "text/x-python",
   "name": "python",
   "nbconvert_exporter": "python",
   "pygments_lexer": "ipython2",
   "version": "2.7.6"
  }
 },
 "nbformat": 4,
 "nbformat_minor": 0
}
