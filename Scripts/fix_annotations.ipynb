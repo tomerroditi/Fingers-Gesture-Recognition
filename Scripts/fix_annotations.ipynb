{
 "cells": [
  {
   "cell_type": "code",
   "execution_count": 63,
   "metadata": {
    "collapsed": true,
    "ExecuteTime": {
     "end_time": "2023-07-29T22:21:43.806941700Z",
     "start_time": "2023-07-29T22:21:43.800929800Z"
    }
   },
   "outputs": [],
   "source": [
    "import mne\n",
    "import numpy as np"
   ]
  },
  {
   "cell_type": "code",
   "execution_count": 64,
   "outputs": [],
   "source": [
    "def copy_annotations(file_with_annotations, file_without_annotations):\n",
    "    # Load the EDF files\n",
    "    edf_with_annotations = mne.io.read_raw_edf(file_with_annotations, preload=True)\n",
    "    edf_without_annotations = mne.io.read_raw_edf(file_without_annotations, preload=True)\n",
    "\n",
    "    # Get the annotations from the first file\n",
    "    annotations = mne.Annotations(edf_with_annotations.annotations.onset,\n",
    "                                  edf_with_annotations.annotations.duration,\n",
    "                                  edf_with_annotations.annotations.description)\n",
    "\n",
    "    # Adjust the onset of annotations to match the start time of the second file\n",
    "    time_diff = edf_without_annotations.info['meas_date'] - edf_with_annotations.info['meas_date']\n",
    "    data = np.pad(edf_without_annotations.get_data(), ((0, 0), (int(time_diff.total_seconds() * edf_without_annotations\n",
    "                                                           .info['sfreq']), 0)), 'edge')\n",
    "\n",
    "    # Create a new Raw object with the data from the second file and the annotations from the first file\n",
    "    info = mne.create_info(ch_names=edf_without_annotations.info['ch_names'],\n",
    "                           sfreq=edf_without_annotations.info['sfreq'],\n",
    "                           ch_types=edf_without_annotations.get_channel_types())\n",
    "    new_raw = mne.io.RawArray(data, info)\n",
    "    new_raw.set_annotations(annotations)\n",
    "\n",
    "    # Save the new EDF file\n",
    "    new_file_path = file_without_annotations.rsplit('.', 1)[0] + '_with_annotations.edf'\n",
    "    new_raw.export(new_file_path, fmt='edf')\n",
    "\n",
    "    return new_file_path\n"
   ],
   "metadata": {
    "collapsed": false,
    "ExecuteTime": {
     "end_time": "2023-07-29T22:21:44.251496800Z",
     "start_time": "2023-07-29T22:21:44.245606100Z"
    }
   }
  },
  {
   "cell_type": "code",
   "execution_count": 65,
   "outputs": [
    {
     "name": "stdout",
     "output_type": "stream",
     "text": [
      "Extracting EDF parameters from I:\\My Drive\\finger gesture recognition\\018\\session_2\\GR_pos4_018_S2_SD.edf...\n",
      "EDF file detected\n",
      "Setting channel info structure...\n",
      "Creating raw.info structure...\n",
      "Reading 0 ... 5199999  =      0.000 ...  1300.000 secs...\n",
      "Extracting EDF parameters from I:\\My Drive\\finger gesture recognition\\019\\session_1\\GR_pos3_019_S1_SD.edf...\n",
      "EDF file detected\n",
      "Setting channel info structure...\n",
      "Creating raw.info structure...\n",
      "Reading 0 ... 3963999  =      0.000 ...   991.000 secs...\n",
      "Creating RawArray with float64 data, n_channels=22, n_times=4308000\n",
      "    Range : 0 ... 4307999 =      0.000 ...  1077.000 secs\n",
      "Ready.\n"
     ]
    },
    {
     "name": "stderr",
     "output_type": "stream",
     "text": [
      "C:\\Users\\tomer\\AppData\\Local\\Temp\\ipykernel_12156\\2914774191.py:20: RuntimeWarning: Omitted 11 annotation(s) that were outside data range.\n",
      "  new_raw.set_annotations(annotations)\n"
     ]
    }
   ],
   "source": [
    "with_anno_path = r\"I:\\My Drive\\finger gesture recognition\\018\\session_2\\GR_pos4_018_S2_SD.edf\"\n",
    "without_anno_path = r\"I:\\My Drive\\finger gesture recognition\\019\\session_1\\GR_pos3_019_S1_SD.edf\"\n",
    "new_file = copy_annotations(with_anno_path, without_anno_path)"
   ],
   "metadata": {
    "collapsed": false,
    "ExecuteTime": {
     "end_time": "2023-07-29T22:23:13.484347400Z",
     "start_time": "2023-07-29T22:21:46.655800200Z"
    }
   }
  },
  {
   "cell_type": "code",
   "execution_count": 59,
   "outputs": [
    {
     "name": "stdout",
     "output_type": "stream",
     "text": [
      "Extracting EDF parameters from I:\\My Drive\\finger gesture recognition\\019\\session_1\\GR_pos3_019_S1_SD.edf...\n",
      "EDF file detected\n",
      "Setting channel info structure...\n",
      "Creating raw.info structure...\n",
      "Reading 0 ... 4307999  =      0.000 ...  1077.000 secs...\n"
     ]
    }
   ],
   "source": [
    "# open the edf file with mne\n",
    "raw_without_ann = mne.io.read_raw_edf(r\"I:\\My Drive\\finger gesture recognition\\019\\session_1\\GR_pos3_019_S1_SD.edf\",\n",
    "                                      preload=True)"
   ],
   "metadata": {
    "collapsed": false,
    "ExecuteTime": {
     "end_time": "2023-07-29T22:19:04.203850500Z",
     "start_time": "2023-07-29T22:19:02.209647700Z"
    }
   }
  },
  {
   "cell_type": "code",
   "execution_count": 60,
   "outputs": [],
   "source": [
    "a = raw_without_ann.get_data()"
   ],
   "metadata": {
    "collapsed": false,
    "ExecuteTime": {
     "end_time": "2023-07-29T22:19:04.436631800Z",
     "start_time": "2023-07-29T22:19:04.205852400Z"
    }
   }
  },
  {
   "cell_type": "code",
   "execution_count": 61,
   "outputs": [
    {
     "data": {
      "text/plain": "[<matplotlib.lines.Line2D at 0x1b60008a790>]"
     },
     "execution_count": 61,
     "metadata": {},
     "output_type": "execute_result"
    },
    {
     "data": {
      "text/plain": "<Figure size 640x480 with 1 Axes>",
      "image/png": "[encoded data removed]"
     },
     "metadata": {},
     "output_type": "display_data"
    }
   ],
   "source": [
    "import matplotlib.pyplot as plt\n",
    "plt.plot(a[0, :100000])"
   ],
   "metadata": {
    "collapsed": false,
    "ExecuteTime": {
     "end_time": "2023-07-29T22:19:04.688815900Z",
     "start_time": "2023-07-29T22:19:04.438629Z"
    }
   }
  },
  {
   "cell_type": "code",
   "execution_count": null,
   "outputs": [],
   "source": [],
   "metadata": {
    "collapsed": false
   }
  }
 ],
 "metadata": {
  "kernelspec": {
   "display_name": "Python 3",
   "language": "python",
   "name": "python3"
  },
  "language_info": {
   "codemirror_mode": {
    "name": "ipython",
    "version": 2
   },
   "file_extension": ".py",
   "mimetype": "text/x-python",
   "name": "python",
   "nbconvert_exporter": "python",
   "pygments_lexer": "ipython2",
   "version": "2.7.6"
  }
 },
 "nbformat": 4,
 "nbformat_minor": 0
}
